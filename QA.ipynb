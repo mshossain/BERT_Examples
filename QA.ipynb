{
 "cells": [
  {
   "cell_type": "code",
   "execution_count": 1,
   "id": "1f6bd023-397a-43ee-a804-34eb86e19642",
   "metadata": {},
   "outputs": [],
   "source": [
    "from transformers import BertTokenizer, BertForQuestionAnswering\n",
    "import torch"
   ]
  },
  {
   "cell_type": "code",
   "execution_count": 2,
   "id": "ee2414a1-6b9c-4659-9a9b-04681fdb9186",
   "metadata": {},
   "outputs": [
    {
     "data": {
      "application/vnd.jupyter.widget-view+json": {
       "model_id": "52f0b731acb746bcb87ffe2b10d5c9e1",
       "version_major": 2,
       "version_minor": 0
      },
      "text/plain": [
       "vocab.txt:   0%|          | 0.00/232k [00:00<?, ?B/s]"
      ]
     },
     "metadata": {},
     "output_type": "display_data"
    },
    {
     "name": "stderr",
     "output_type": "stream",
     "text": [
      "C:\\Users\\mshos\\AppData\\Local\\Programs\\Python\\Python311\\Lib\\site-packages\\huggingface_hub\\file_download.py:149: UserWarning: `huggingface_hub` cache-system uses symlinks by default to efficiently store duplicated files but your machine does not support them in C:\\Users\\mshos\\.cache\\huggingface\\hub\\models--bert-large-uncased-whole-word-masking-finetuned-squad. Caching files will still work but in a degraded version that might require more space on your disk. This warning can be disabled by setting the `HF_HUB_DISABLE_SYMLINKS_WARNING` environment variable. For more details, see https://huggingface.co/docs/huggingface_hub/how-to-cache#limitations.\n",
      "To support symlinks on Windows, you either need to activate Developer Mode or to run Python as an administrator. In order to see activate developer mode, see this article: https://docs.microsoft.com/en-us/windows/apps/get-started/enable-your-device-for-development\n",
      "  warnings.warn(message)\n"
     ]
    },
    {
     "data": {
      "application/vnd.jupyter.widget-view+json": {
       "model_id": "a7d0337f817245bab1f11f1fd8a6e547",
       "version_major": 2,
       "version_minor": 0
      },
      "text/plain": [
       "tokenizer_config.json:   0%|          | 0.00/48.0 [00:00<?, ?B/s]"
      ]
     },
     "metadata": {},
     "output_type": "display_data"
    },
    {
     "data": {
      "application/vnd.jupyter.widget-view+json": {
       "model_id": "67186949550548eab3dfb85742841098",
       "version_major": 2,
       "version_minor": 0
      },
      "text/plain": [
       "config.json:   0%|          | 0.00/443 [00:00<?, ?B/s]"
      ]
     },
     "metadata": {},
     "output_type": "display_data"
    },
    {
     "data": {
      "application/vnd.jupyter.widget-view+json": {
       "model_id": "c513a788b2fd4fd8bd0326f81031f144",
       "version_major": 2,
       "version_minor": 0
      },
      "text/plain": [
       "model.safetensors:   0%|          | 0.00/1.34G [00:00<?, ?B/s]"
      ]
     },
     "metadata": {},
     "output_type": "display_data"
    },
    {
     "name": "stderr",
     "output_type": "stream",
     "text": [
      "Some weights of the model checkpoint at bert-large-uncased-whole-word-masking-finetuned-squad were not used when initializing BertForQuestionAnswering: ['bert.pooler.dense.weight', 'bert.pooler.dense.bias']\n",
      "- This IS expected if you are initializing BertForQuestionAnswering from the checkpoint of a model trained on another task or with another architecture (e.g. initializing a BertForSequenceClassification model from a BertForPreTraining model).\n",
      "- This IS NOT expected if you are initializing BertForQuestionAnswering from the checkpoint of a model that you expect to be exactly identical (initializing a BertForSequenceClassification model from a BertForSequenceClassification model).\n"
     ]
    }
   ],
   "source": [
    "# Load pre-trained BERT tokenizer and model fine-tuned on SQuAD\n",
    "tokenizer = BertTokenizer.from_pretrained(\"bert-large-uncased-whole-word-masking-finetuned-squad\")\n",
    "model = BertForQuestionAnswering.from_pretrained(\"bert-large-uncased-whole-word-masking-finetuned-squad\")"
   ]
  },
  {
   "cell_type": "code",
   "execution_count": 3,
   "id": "38705523-7544-45d0-a931-fe8516bb0ec8",
   "metadata": {},
   "outputs": [],
   "source": [
    "# Define the question and context (passage)\n",
    "question = \"Where did the cat sit?\"\n",
    "context = \"The cat sat on the mat near the window. It looked very comfortable.\""
   ]
  },
  {
   "cell_type": "code",
   "execution_count": 4,
   "id": "859ead93-e473-4e0f-b892-58a5d9f8357d",
   "metadata": {},
   "outputs": [],
   "source": [
    "# Encode the question and context together\n",
    "inputs = tokenizer(question, context, return_tensors=\"pt\")\n"
   ]
  },
  {
   "cell_type": "code",
   "execution_count": 5,
   "id": "10fc417d-c9af-4d4b-a719-c7ce1d155859",
   "metadata": {},
   "outputs": [],
   "source": [
    "# Run the model to get start and end logits for the answer span\n",
    "with torch.no_grad():\n",
    "    outputs = model(**inputs)\n",
    "    start_logits = outputs.start_logits\n",
    "    end_logits = outputs.end_logits\n"
   ]
  },
  {
   "cell_type": "code",
   "execution_count": 6,
   "id": "077d5cb6-a7cc-460d-bb3b-d97fd7a4e28e",
   "metadata": {},
   "outputs": [],
   "source": [
    "# Get the most probable start and end positions\n",
    "start_index = torch.argmax(start_logits)\n",
    "end_index = torch.argmax(end_logits)"
   ]
  },
  {
   "cell_type": "code",
   "execution_count": 7,
   "id": "95a948c5-abfd-4124-8937-7094589d43d7",
   "metadata": {},
   "outputs": [],
   "source": [
    "# Decode the answer from the input ids\n",
    "answer = tokenizer.convert_tokens_to_string(\n",
    "    tokenizer.convert_ids_to_tokens(inputs[\"input_ids\"][0][start_index : end_index + 1])\n",
    ")"
   ]
  },
  {
   "cell_type": "code",
   "execution_count": 8,
   "id": "e073dd5a-7eea-4f07-b8a3-c7a7ae5690d0",
   "metadata": {},
   "outputs": [
    {
     "name": "stdout",
     "output_type": "stream",
     "text": [
      "Question: Where did the cat sit?\n",
      "Answer: near the window\n"
     ]
    }
   ],
   "source": [
    "\n",
    "print(\"Question:\", question)\n",
    "print(\"Answer:\", answer)"
   ]
  },
  {
   "cell_type": "code",
   "execution_count": 11,
   "id": "54eca5d0-ee57-4969-806b-7319d73ca814",
   "metadata": {},
   "outputs": [
    {
     "data": {
      "text/plain": [
       "tensor([[-5.4289, -5.9347, -7.3897, -7.4089, -6.7239, -7.3540, -8.8766, -5.4288,\n",
       "          1.7281, -1.2975,  0.3599,  4.1286,  3.1749,  2.4569,  5.1155,  0.7299,\n",
       "          2.3086, -5.3806, -2.9994, -5.5147, -5.4894, -3.9346, -5.4294, -5.4286]])"
      ]
     },
     "execution_count": 11,
     "metadata": {},
     "output_type": "execute_result"
    }
   ],
   "source": [
    "start_logits"
   ]
  },
  {
   "cell_type": "code",
   "execution_count": 12,
   "id": "11662509-4395-4178-af1a-61267b5df338",
   "metadata": {},
   "outputs": [
    {
     "data": {
      "text/plain": [
       "tensor([[-0.1619, -6.4591, -6.8918, -7.6206, -6.0679, -6.5172, -7.4069, -0.1615,\n",
       "         -5.1359, -3.0821, -2.9711, -2.3550, -2.7320,  2.4637, -0.8783, -3.7991,\n",
       "          7.0502,  3.5367, -4.9805, -6.5219, -6.6309, -1.2670, -0.1620, -0.1621]])"
      ]
     },
     "execution_count": 12,
     "metadata": {},
     "output_type": "execute_result"
    }
   ],
   "source": [
    "end_logits"
   ]
  },
  {
   "cell_type": "code",
   "execution_count": null,
   "id": "5355f1d8-088a-474a-a490-a2be3c29fba5",
   "metadata": {},
   "outputs": [],
   "source": []
  }
 ],
 "metadata": {
  "kernelspec": {
   "display_name": "Python 3 (ipykernel)",
   "language": "python",
   "name": "python3"
  },
  "language_info": {
   "codemirror_mode": {
    "name": "ipython",
    "version": 3
   },
   "file_extension": ".py",
   "mimetype": "text/x-python",
   "name": "python",
   "nbconvert_exporter": "python",
   "pygments_lexer": "ipython3",
   "version": "3.11.4"
  }
 },
 "nbformat": 4,
 "nbformat_minor": 5
}
