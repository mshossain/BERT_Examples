{
 "cells": [
  {
   "cell_type": "code",
   "execution_count": 1,
   "id": "9e03f8b6-5998-44e2-a183-4aa0134ab05b",
   "metadata": {},
   "outputs": [],
   "source": [
    "import torch\n",
    "from transformers import BertTokenizer, BertModel"
   ]
  },
  {
   "cell_type": "code",
   "execution_count": 2,
   "id": "95ae231a-de3f-4c3e-a64b-02b7484b8b7a",
   "metadata": {},
   "outputs": [
    {
     "data": {
      "application/vnd.jupyter.widget-view+json": {
       "model_id": "2c8ebbe77010451ea9d1726ebcf8b374",
       "version_major": 2,
       "version_minor": 0
      },
      "text/plain": [
       "model.safetensors:   0%|          | 0.00/440M [00:00<?, ?B/s]"
      ]
     },
     "metadata": {},
     "output_type": "display_data"
    },
    {
     "name": "stderr",
     "output_type": "stream",
     "text": [
      "C:\\Users\\mshos\\AppData\\Local\\Programs\\Python\\Python311\\Lib\\site-packages\\huggingface_hub\\file_download.py:149: UserWarning: `huggingface_hub` cache-system uses symlinks by default to efficiently store duplicated files but your machine does not support them in C:\\Users\\mshos\\.cache\\huggingface\\hub\\models--bert-base-uncased. Caching files will still work but in a degraded version that might require more space on your disk. This warning can be disabled by setting the `HF_HUB_DISABLE_SYMLINKS_WARNING` environment variable. For more details, see https://huggingface.co/docs/huggingface_hub/how-to-cache#limitations.\n",
      "To support symlinks on Windows, you either need to activate Developer Mode or to run Python as an administrator. In order to see activate developer mode, see this article: https://docs.microsoft.com/en-us/windows/apps/get-started/enable-your-device-for-development\n",
      "  warnings.warn(message)\n"
     ]
    }
   ],
   "source": [
    "# Load pre-trained BERT model and tokenizer\n",
    "tokenizer = BertTokenizer.from_pretrained(\"bert-base-uncased\")\n",
    "model = BertModel.from_pretrained(\"bert-base-uncased\")\n"
   ]
  },
  {
   "cell_type": "code",
   "execution_count": 3,
   "id": "7f187c39-b9c6-4caf-b3c5-e2e98043f2ef",
   "metadata": {},
   "outputs": [],
   "source": [
    "# Encode input text\n",
    "inputs = tokenizer(\"This is an example text\", return_tensors=\"pt\")"
   ]
  },
  {
   "cell_type": "code",
   "execution_count": 4,
   "id": "7907c288-b6a0-42d0-9bcd-4b54fdd909d5",
   "metadata": {},
   "outputs": [
    {
     "data": {
      "text/plain": [
       "{'input_ids': tensor([[ 101, 2023, 2003, 2019, 2742, 3793,  102]]), 'token_type_ids': tensor([[0, 0, 0, 0, 0, 0, 0]]), 'attention_mask': tensor([[1, 1, 1, 1, 1, 1, 1]])}"
      ]
     },
     "execution_count": 4,
     "metadata": {},
     "output_type": "execute_result"
    }
   ],
   "source": [
    "inputs"
   ]
  },
  {
   "cell_type": "code",
   "execution_count": 5,
   "id": "385588f3-1a5e-40bc-a210-a1b59183ba09",
   "metadata": {},
   "outputs": [],
   "source": [
    "# Get the hidden states (embeddings)\n",
    "with torch.no_grad():\n",
    "    outputs = model(**inputs)\n",
    "    last_hidden_states = outputs.last_hidden_state  # Embeddings for each token"
   ]
  },
  {
   "cell_type": "code",
   "execution_count": 7,
   "id": "2a344624-3b61-468b-a4d8-0eef991c8f4f",
   "metadata": {},
   "outputs": [
    {
     "data": {
      "text/plain": [
       "torch.Size([1, 7, 768])"
      ]
     },
     "execution_count": 7,
     "metadata": {},
     "output_type": "execute_result"
    }
   ],
   "source": [
    "last_hidden_states.shape"
   ]
  },
  {
   "cell_type": "code",
   "execution_count": 8,
   "id": "3e8a5294-dbac-4203-9db2-8bfee896ea16",
   "metadata": {},
   "outputs": [
    {
     "name": "stdout",
     "output_type": "stream",
     "text": [
      "CLS Pooling Embedding Shape: torch.Size([1, 768])\n"
     ]
    }
   ],
   "source": [
    "# Pooling Strategies\n",
    "# 1. CLS Pooling: Use the embedding of the [CLS] token\n",
    "cls_embedding = last_hidden_states[:, 0, :]  # The [CLS] token is at index 0\n",
    "print(\"CLS Pooling Embedding Shape:\", cls_embedding.shape)"
   ]
  },
  {
   "cell_type": "code",
   "execution_count": 9,
   "id": "e761551a-ce5f-4ef9-b7c2-ad5a3c3804e5",
   "metadata": {},
   "outputs": [],
   "source": [
    "# 2. Mean Pooling: Take the mean of all token embeddings\n",
    "# Exclude padding tokens from the mean if padding is present\n",
    "attention_mask = inputs['attention_mask']\n",
    "masked_embeddings = last_hidden_states * attention_mask.unsqueeze(-1)\n",
    "mean_embedding = masked_embeddings.sum(dim=1) / attention_mask.sum(dim=1, keepdim=True)"
   ]
  },
  {
   "cell_type": "code",
   "execution_count": 10,
   "id": "01aff4cd-02da-4deb-9086-dac45e0b5b05",
   "metadata": {},
   "outputs": [
    {
     "name": "stdout",
     "output_type": "stream",
     "text": [
      "Mean Pooling Embedding Shape: torch.Size([1, 768])\n"
     ]
    }
   ],
   "source": [
    "print(\"Mean Pooling Embedding Shape:\", mean_embedding.shape)"
   ]
  },
  {
   "cell_type": "code",
   "execution_count": 17,
   "id": "d06808f8-0601-469e-8660-6e310838d333",
   "metadata": {},
   "outputs": [
    {
     "data": {
      "text/plain": [
       "tensor([[[-0.1671,  0.0339, -0.0868,  ..., -0.4128,  0.4176,  0.8275],\n",
       "         [-0.7717, -0.2977,  0.0357,  ..., -0.6559,  0.6945,  0.0457],\n",
       "         [-0.1457, -0.6747,  0.3640,  ..., -0.3649,  0.4561,  0.5992],\n",
       "         ...,\n",
       "         [-0.6385, -0.2565,  0.0449,  ..., -0.4831,  0.3721,  0.5082],\n",
       "         [-0.5544, -0.0528, -0.3377,  ...,  0.4267,  0.4717,  0.4110],\n",
       "         [ 0.8272,  0.1619, -0.4493,  ...,  0.1640, -0.7352, -0.1326]]])"
      ]
     },
     "execution_count": 17,
     "metadata": {},
     "output_type": "execute_result"
    }
   ],
   "source": [
    "last_hidden_states"
   ]
  },
  {
   "cell_type": "code",
   "execution_count": null,
   "id": "f3426599-32f1-4310-8b9e-0ad3cf690f3f",
   "metadata": {},
   "outputs": [],
   "source": []
  }
 ],
 "metadata": {
  "kernelspec": {
   "display_name": "Python 3 (ipykernel)",
   "language": "python",
   "name": "python3"
  },
  "language_info": {
   "codemirror_mode": {
    "name": "ipython",
    "version": 3
   },
   "file_extension": ".py",
   "mimetype": "text/x-python",
   "name": "python",
   "nbconvert_exporter": "python",
   "pygments_lexer": "ipython3",
   "version": "3.11.4"
  }
 },
 "nbformat": 4,
 "nbformat_minor": 5
}
